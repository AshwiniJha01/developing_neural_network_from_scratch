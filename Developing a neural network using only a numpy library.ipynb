{
 "cells": [
  {
   "cell_type": "code",
   "execution_count": 1,
   "metadata": {},
   "outputs": [],
   "source": [
    "import numpy as np"
   ]
  },
  {
   "cell_type": "code",
   "execution_count": 2,
   "metadata": {},
   "outputs": [],
   "source": [
    "# defining the sigmoid function for activation\n",
    "def sigmoidFun(z):\n",
    "    op = 1/(1 + np.exp(-z))\n",
    "    return(op)"
   ]
  },
  {
   "cell_type": "code",
   "execution_count": 3,
   "metadata": {},
   "outputs": [],
   "source": [
    "# defining the cost calculation function\n",
    "def costFun(yActual, yPredicted):\n",
    "    lossValues = [None]*np.shape(yActual)[1]\n",
    "    logY0 = np.log(yPredicted)\n",
    "    logY1 = np.log(1 - yPredicted)\n",
    "    for i in range(np.shape(yActual)[1]):\n",
    "        lossValues[i] = -(yActual.item((0,i))*logY0.item((0,i)) + (1-yActual.item((0,i)))*logY1.item((0,i)))\n",
    "    costValue = np.sum(lossValues)/np.shape(yActual)[1]\n",
    "    return(costValue)"
   ]
  },
  {
   "cell_type": "code",
   "execution_count": 4,
   "metadata": {},
   "outputs": [],
   "source": [
    "# defining derivative of the sigmoid function\n",
    "def sigmoidDer(z): # Derivative of the sigmoid function sigmoid(z)*(1-sigmoid(z)):\n",
    "    op = np.array(sigmoidFun(z))*np.array((1-sigmoidFun(z)))\n",
    "    return(op)"
   ]
  },
  {
   "cell_type": "code",
   "execution_count": 5,
   "metadata": {},
   "outputs": [],
   "source": [
    "# Neural Network function that will be able to do above steps for epoch number of times and return final weights, biases and cost value for each function:\n",
    "def neuralNet(X, y, numLayers, numNodes, alpha, epochs):\n",
    "    \n",
    "    costVal = [None]*epochs # Creating array to store cost value from each epoch\n",
    "    \n",
    "    # Initializing the weights and biases of the linear function of each node\n",
    "    W = [None]*numLayers\n",
    "    B = [None]*numLayers\n",
    "    for i in range(numLayers):\n",
    "        if i == 0:\n",
    "            W[i] = np.asmatrix(np.random.rand(numNodes[i],np.shape(X)[0]))\n",
    "            B[i] = np.asmatrix(np.random.rand(numNodes[i],1))\n",
    "            continue\n",
    "        W[i] = np.asmatrix(np.random.rand(numNodes[i],np.shape(W[i-1])[0]))\n",
    "        B[i] = np.asmatrix(np.random.rand(numNodes[i],1))\n",
    "    \n",
    "    for k in range(epochs):\n",
    "        \n",
    "        # Calculating the Z (linear output W*X + B) values and the activation function (sigmoid(Z)) values for each node, this makes the forward propagation\n",
    "        Z = [None]*numLayers\n",
    "        Sig = [None]*numLayers\n",
    "        for i in range(numLayers):\n",
    "            if i == 0:\n",
    "                Z[i] = np.dot(W[i],X) + B[i]\n",
    "                Sig[i] = sigmoidFun(Z[i])\n",
    "                continue\n",
    "            Z[i] = np.dot(W[i], Sig[i - 1]) + B[i]\n",
    "            Sig[i] = sigmoidFun(Z[i])\n",
    "\n",
    "\n",
    "        # Calculating the loss across the output:\n",
    "        costVal[k] = costFun(yActual = y, yPredicted = Sig[(numLayers - 1)])\n",
    "\n",
    "\n",
    "        # Calculating the derivatives for the backward propagation:\n",
    "        dZ = [None]*numLayers\n",
    "        dW = [None]*numLayers\n",
    "        dB = [None]*numLayers\n",
    "        for i in range(numLayers, 0, -1):\n",
    "            if i == 1:\n",
    "                dZ[i-1] = Sig[i-1] - y\n",
    "                dW[i-1] = (1/np.shape(X)[1])*(dZ[i-1])*np.transpose(X)\n",
    "                dB[i-1] = (1/np.shape(X)[1])*np.sum(dZ[i-1], axis = 1)\n",
    "                continue\n",
    "            dZ[i-1] = Sig[i-1] - y\n",
    "            dW[i-1] = (1/np.shape(X)[1])*(dZ[i-1])*np.transpose(Sig[i-2])\n",
    "            dB[i-1] = (1/np.shape(X)[1])*np.sum(dZ[i-1], axis = 1)\n",
    "\n",
    "\n",
    "        # Updating the weights and biases:\n",
    "        for i in range(numLayers):\n",
    "            W[i] = W[i] - alpha*dW[i]\n",
    "            B[i] = B[i] - alpha*dB[i]\n",
    "\n",
    "\n",
    "    return [W, B, costVal, numLayers]"
   ]
  },
  {
   "cell_type": "code",
   "execution_count": 6,
   "metadata": {},
   "outputs": [],
   "source": [
    "# function to predict using a neural network model:\n",
    "def predictNeuralNet(model, newData):\n",
    "    # Calculating the Z (linear output W*X + B) values and activation function (sigmoid(Z)) values for each node\n",
    "    numLayers = model[3]\n",
    "    W = model[0]\n",
    "    B = model[1]\n",
    "    Z = [None]*numLayers\n",
    "    Sig = [None]*numLayers\n",
    "    for i in range(numLayers):\n",
    "        if i == 0:\n",
    "            Z[i] = np.dot(W[i],newData) + B[i]\n",
    "            Sig[i] = sigmoidFun(Z[i])\n",
    "            continue\n",
    "        Z[i] = np.dot(W[i], Sig[i - 1]) + B[i]\n",
    "        Sig[i] = sigmoidFun(Z[i])\n",
    "    return(Sig[numLayers-1])"
   ]
  },
  {
   "cell_type": "code",
   "execution_count": 7,
   "metadata": {},
   "outputs": [],
   "source": [
    "# testing the function on iris dataset:\n",
    "from sklearn import datasets\n",
    "data = datasets.load_iris() #loading a sample data for checking code errors\n",
    "X = data.data[:, :4] # saving independent variables\n",
    "y = data.target # saving the dependent variables\n",
    "y[y == 2] = 1 # converting three class into two class\n",
    "X = np.asmatrix(X) # converting into matrix\n",
    "X = np.transpose(X) # tranposing the matrix to have all value of one record in one column and all records as different columns\n",
    "y = np.asmatrix(y) #converting into matrix"
   ]
  },
  {
   "cell_type": "code",
   "execution_count": 18,
   "metadata": {},
   "outputs": [],
   "source": [
    "nnModel = neuralNet(X = X, y = y, numLayers = 3, numNodes = [3, 2, 1], alpha = 0.01, epochs = 10000)"
   ]
  },
  {
   "cell_type": "code",
   "execution_count": 19,
   "metadata": {},
   "outputs": [
    {
     "data": {
      "image/png": "[encoded data removed]",
      "text/plain": [
       "<Figure size 432x288 with 1 Axes>"
      ]
     },
     "metadata": {
      "needs_background": "light"
     },
     "output_type": "display_data"
    }
   ],
   "source": [
    "# Decrease in cost function of the model:\n",
    "import matplotlib.pyplot as plt \n",
    "  \n",
    "# x axis values \n",
    "xAxis = range(len(nnModel[2]))\n",
    "# corresponding y axis values \n",
    "yAxis = nnModel[2]\n",
    "  \n",
    "# plotting the points  \n",
    "plt.plot(xAxis, yAxis) \n",
    "  \n",
    "# naming the x axis \n",
    "plt.xlabel('Epochs') \n",
    "# naming the y axis \n",
    "plt.ylabel('Cost value') \n",
    "  \n",
    "# giving a title to my graph \n",
    "plt.title('Cost value vs Epoch') \n",
    "  \n",
    "# function to show the plot \n",
    "plt.show()"
   ]
  },
  {
   "cell_type": "code",
   "execution_count": 20,
   "metadata": {},
   "outputs": [],
   "source": [
    "# making predictions from the model\n",
    "prdns = predictNeuralNet(model = nnModel, newData = X)"
   ]
  },
  {
   "cell_type": "code",
   "execution_count": 21,
   "metadata": {},
   "outputs": [
    {
     "name": "stdout",
     "output_type": "stream",
     "text": [
      "Accuracy:  100.0 %\n"
     ]
    }
   ],
   "source": [
    "# accuracy (using the trainning data as no test data was created)\n",
    "print(\"Accuracy: \", round((1 - np.sum(np.abs((np.round(prdns) - y)))/np.shape(prdns)[1])*100,2),\"%\")"
   ]
  },
  {
   "cell_type": "code",
   "execution_count": 22,
   "metadata": {},
   "outputs": [],
   "source": [
    "###As we can see, we have overfit the model"
   ]
  }
 ],
 "metadata": {
  "kernelspec": {
   "display_name": "Python 3",
   "language": "python",
   "name": "python3"
  },
  "language_info": {
   "codemirror_mode": {
    "name": "ipython",
    "version": 3
   },
   "file_extension": ".py",
   "mimetype": "text/x-python",
   "name": "python",
   "nbconvert_exporter": "python",
   "pygments_lexer": "ipython3",
   "version": "3.7.3"
  }
 },
 "nbformat": 4,
 "nbformat_minor": 2
}
